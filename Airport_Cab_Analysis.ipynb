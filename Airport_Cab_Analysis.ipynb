{
  "nbformat": 4,
  "nbformat_minor": 0,
  "metadata": {
    "colab": {
      "provenance": [],
      "authorship_tag": "ABX9TyPBHdLlgwTwymwaCCchsGBJ",
      "include_colab_link": true
    },
    "kernelspec": {
      "name": "python3",
      "display_name": "Python 3"
    },
    "language_info": {
      "name": "python"
    }
  },
  "cells": [
    {
      "cell_type": "markdown",
      "metadata": {
        "id": "view-in-github",
        "colab_type": "text"
      },
      "source": [
        "<a href=\"https://colab.research.google.com/github/94sonirashmi/Numpy_Projects/blob/main/Airport_Cab_Analysis.ipynb\" target=\"_parent\"><img src=\"https://colab.research.google.com/assets/colab-badge.svg\" alt=\"Open In Colab\"/></a>"
      ]
    },
    {
      "cell_type": "markdown",
      "source": [
        "1. Mean speed of all the rides\n",
        "2. Number of rides taken in February\n",
        "3. Number of rides where tip is more than 50$\n",
        "4. Number of rides where drop was JFK airport."
      ],
      "metadata": {
        "id": "6VeT4tLp-VAy"
      }
    },
    {
      "cell_type": "markdown",
      "source": [
        "1. Mean speed of all the rides"
      ],
      "metadata": {
        "id": "xWZ0oI_H-Z5F"
      }
    },
    {
      "cell_type": "code",
      "source": [
        "import numpy as np"
      ],
      "metadata": {
        "id": "jAaKjVaX-a-k"
      },
      "execution_count": 2,
      "outputs": []
    },
    {
      "cell_type": "code",
      "execution_count": 4,
      "metadata": {
        "id": "sBkcQDqU-Cka"
      },
      "outputs": [],
      "source": [
        "taxi=np.genfromtxt('nyc_taxis.csv',delimiter=',',skip_header=True)\n",
        "speed=taxi[:,7]/ (taxi[:,8]/3600)"
      ]
    },
    {
      "cell_type": "code",
      "source": [
        "mean_speed=speed.mean()"
      ],
      "metadata": {
        "id": "oftL4KaP-jhb"
      },
      "execution_count": 5,
      "outputs": []
    },
    {
      "cell_type": "code",
      "source": [
        "print(mean_speed)"
      ],
      "metadata": {
        "colab": {
          "base_uri": "https://localhost:8080/"
        },
        "id": "PMRVsXvF-kGw",
        "outputId": "f6077327-361e-4d08-90cf-7aeb75896eaa"
      },
      "execution_count": 6,
      "outputs": [
        {
          "output_type": "stream",
          "name": "stdout",
          "text": [
            "32.24258580925573\n"
          ]
        }
      ]
    },
    {
      "cell_type": "markdown",
      "source": [
        "2. Number of rides taken in month of february."
      ],
      "metadata": {
        "id": "SNpJZaZuDA_J"
      }
    },
    {
      "cell_type": "code",
      "source": [
        "Feb_rides= taxi[taxi[:,1] == 2,1 ]"
      ],
      "metadata": {
        "id": "Lvbm3gn8C70F"
      },
      "execution_count": 7,
      "outputs": []
    },
    {
      "cell_type": "code",
      "source": [
        "print(Feb_rides.shape[0])"
      ],
      "metadata": {
        "colab": {
          "base_uri": "https://localhost:8080/"
        },
        "id": "uNNB451KDCjX",
        "outputId": "ee7a6375-ecee-427c-c4bf-d79c836b5e29"
      },
      "execution_count": 8,
      "outputs": [
        {
          "output_type": "stream",
          "name": "stdout",
          "text": [
            "13333\n"
          ]
        }
      ]
    },
    {
      "cell_type": "markdown",
      "source": [
        "3. Number of rides with greater tip 50$."
      ],
      "metadata": {
        "id": "mxiPNpoMDLN5"
      }
    },
    {
      "cell_type": "code",
      "source": [
        "tip = (taxi[taxi[:,-3] >50, -3].shape[0])"
      ],
      "metadata": {
        "id": "V0Q7mPcRDILQ"
      },
      "execution_count": 9,
      "outputs": []
    },
    {
      "cell_type": "code",
      "source": [
        "print(tip)"
      ],
      "metadata": {
        "colab": {
          "base_uri": "https://localhost:8080/"
        },
        "id": "e7NX_e-uDO7b",
        "outputId": "c397be94-1025-4fc7-cf03-a302579dfeb7"
      },
      "execution_count": 10,
      "outputs": [
        {
          "output_type": "stream",
          "name": "stdout",
          "text": [
            "16\n"
          ]
        }
      ]
    },
    {
      "cell_type": "markdown",
      "source": [
        "4. Number of rides where drop is from JFK airport. #dropoff code for JFK airport is 2."
      ],
      "metadata": {
        "id": "wRmDynKQDXPB"
      }
    },
    {
      "cell_type": "code",
      "source": [
        "drop_JFK=(taxi[taxi[:,6]==2,6].shape[0])"
      ],
      "metadata": {
        "id": "8zdtqOnVDQ-3"
      },
      "execution_count": 11,
      "outputs": []
    },
    {
      "cell_type": "code",
      "source": [
        "drop_JFK"
      ],
      "metadata": {
        "colab": {
          "base_uri": "https://localhost:8080/"
        },
        "id": "7PeaQJE_DcBM",
        "outputId": "5ba36843-fdba-48da-9c70-1158119087a3"
      },
      "execution_count": 12,
      "outputs": [
        {
          "output_type": "execute_result",
          "data": {
            "text/plain": [
              "11832"
            ]
          },
          "metadata": {},
          "execution_count": 12
        }
      ]
    },
    {
      "cell_type": "code",
      "source": [],
      "metadata": {
        "id": "SefAkb7nDdCA"
      },
      "execution_count": null,
      "outputs": []
    }
  ]
}